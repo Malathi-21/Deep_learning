{
 "cells": [
  {
   "cell_type": "code",
   "execution_count": null,
   "metadata": {},
   "outputs": [],
   "source": [
    "#to create Labels for all images\n",
    "import os\n",
    "\n",
    "# Define dataset paths\n",
    "base_path = \"F:/malathi/AI/DEEP_LEARNING/Shoe_detect_2\"\n",
    "sub_dirs = [\"train\", \"val\", \"test\"]\n",
    "\n",
    "# Process each dataset folder\n",
    "for sub_dir in sub_dirs:\n",
    "    images_path = os.path.join(base_path)\n",
    "    labels_path = os.path.join(base_path, sub_dir, \"labels\")\n",
    "    \n",
    "    # Ensure labels folder exists\n",
    "    os.makedirs(labels_path, exist_ok=True)\n",
    "\n",
    "    # Get all image filenames (without extension)\n",
    "    image_files = [f.split(\".\")[0] for f in os.listdir(images_path) if f.endswith(\".jpg\")]\n",
    "\n",
    "    for img_name in image_files:\n",
    "        label_file = os.path.join(labels_path, img_name + \".txt\")\n",
    "        if not os.path.exists(label_file):  # Create only if missing\n",
    "            open(label_file, \"w\").close()  # Create empty file\n",
    "            print(f\"📝 Created: {label_file}\")\n",
    "\n",
    "print(\"✅ Label files created for all images!\")\n"
   ]
  },
  {
   "cell_type": "code",
   "execution_count": null,
   "metadata": {},
   "outputs": [],
   "source": [
    "import os\n",
    "\n",
    "# Define paths\n",
    "image_folder = \"F:/malathi/AI/DEEP_LEARNING/Shoe_detect_2/val/images\"\n",
    "label_folder = \"F:/malathi/AI/DEEP_LEARNING/Shoe_detect_2/val/labels\"\n",
    "\n",
    "# Ensure the labels folder exists\n",
    "os.makedirs(label_folder, exist_ok=True)\n",
    "\n",
    "# Create empty label files\n",
    "image_files = [f for f in os.listdir(image_folder) if f.endswith(\".jpg\")]\n",
    "for img in image_files:\n",
    "    label_file = os.path.join(label_folder, img.replace(\".jpg\", \".txt\"))\n",
    "    open(label_file, \"w\").close()  # Create empty .txt file\n",
    "\n",
    "print(f\"✅ Created empty labels for {len(image_files)} images.\")\n"
   ]
  },
  {
   "cell_type": "code",
   "execution_count": 3,
   "metadata": {},
   "outputs": [
    {
     "name": "stdout",
     "output_type": "stream",
     "text": [
      "Found 144 label files.\n"
     ]
    }
   ],
   "source": [
    "#to create any missing Labels for all images\n",
    "import os\n",
    "\n",
    "dataset_path = \"F:/malathi/AI/DEEP_LEARNING/Shoe_detect_2/test/labels\"\n",
    "\n",
    "if os.path.exists(dataset_path) and os.path.isdir(dataset_path):\n",
    "    label_files = [f for f in os.listdir(dataset_path) if f.endswith(\".txt\")]\n",
    "    print(f\"Found {len(label_files)} label files.\")\n",
    "else:\n",
    "    print(\"Labels folder is missing or incorrectly named.\")\n"
   ]
  },
  {
   "cell_type": "code",
   "execution_count": 8,
   "metadata": {},
   "outputs": [
    {
     "name": "stdout",
     "output_type": "stream",
     "text": [
      "🚨 Missing label for image(s): {'istockphoto-1270276328-612x612_jpg.rf.f9d8067b26f21ad07858935c8757ceec', 'skill-india-credai-says-will-train-13000-construction-workers-in-2019-20_jpg.rf.9dfe3e4b41dc8ae7dd44ea4e04a9b578', 'istockphoto-1137107584-612x612_jpg.rf.855a66b4ec893ab7bdf08a2c4dcb0a1a', 'children-running-barefoot-on-the-grass-birling-gap-east-sussex-1023577_jpg.rf.4c56255bd42714a1e45fad4deebc897f', '0135_jpg.rf.24831a7867486ddfa2a4813734052ea6', 'istockphoto-1200121590-612x612_jpg.rf.816c7ea69083ea05f94d1a36acb50480', '45519662_10217131310298864_4257492714204954624_o_jpg.rf.90decb78f40342b64bd1fea66b32f284', 'd5c7c032959d1d08b5c2170338fc2243-norman-rockwell-toms_jpg.rf.fd38f27e62488436325049c64d4d9670', 'istockphoto-802301316-612x612_jpg.rf.820a83ae3583a3d2d53e89c8970cd939', 'istockphoto-1046113452-612x612_jpg.rf.66fa1546e16dce5ecca85a028496d494', '0035_jpg.rf.2e8ab48d54e292aec57a373c6848323a', 'images5_jpg.rf.9d33f1d44324f0335c99dc8def8baad0', 'istockphoto-1001731828-612x612_jpg.rf.3c07cd9269ed6da646b14f64dc384bcb', '0abd0c585253c0b0134d2e67f1a1bb28_png_jpg.rf.a032a7feda00b8a8db90ccaaaa1b8e7d', 'images4_jpg.rf.58b63af5132d9660ed03aab4d1ca343e', 'istockphoto-1363437710-612x612-1-_jpg.rf.c1a00eaa0ec36712fa75812b613a4d4a', '18theaterct_1-popup_jpg.rf.57d0d7cee21e85cf01b782c77df948dd', 'image7_jpeg_jpg.rf.973dbb7a799390e4c445cf37c7e532b9', 'Barefoot-play-1_jpg.rf.48841feaa179f034023f55a562ba1b42', 'istockphoto-1459895122-612x612_jpg.rf.700c10726ecafe0ad02b5bc899b7c822', '764fd2301b51eeee39ea58327bf7c58f_jpg.rf.a94b507b89241ec50744c0ccd10aa510', 'istockphoto-1030042598-612x612_jpg.rf.bb399395c4215a2c866753b1f0b6f03e', 'ad66718bdf57baea6c47817edb0e90b7_jpg.rf.a27933a87cc03d60fbeb7b6762d2a10a', 'istockphoto-1052172362-612x612_jpg.rf.275353511e09aebe0bc7c40947a89ee3', 'ng-photo-how-to-work-any-incident-hazard-labour-training-conduting-168618053_jpg.rf.6cee7abcc26f7824fd3f3ccbc2d81072', 'istockphoto-1270623301-612x612_jpg.rf.e688a9cded2533a20d2bd5bcd50d113c', 'icides-construction-developers-industry_88b9d674-c01a-11e6-b4af-637223eab3d5_jpg.rf.7c601cdda48abe519999945601cf72fd', '97104716_love-nina_trans_NvBQzQNjv4BqrWYeUU_H0zBKyvljOo6zlsMfVIHhU5tZ0hUVm-WHHcU_jpg.rf.aeca6d5998332224f6a055cdf279a639', '2a56d098459ccf770c6792616350be91_jpg.rf.c280a477cb3b78360d2b419de981fcbc', 'istockphoto-1001799892-612x612-1-_jpg.rf.20c7533040f926c7e989e55525f71867', 'istockphoto-1001730538-612x612_jpg.rf.915d94bcbd1621ecedf343f58532bf8d', '022_the_school_will_allow_students_from_Kindergarten_to_Ye-a-2_1637128109641_jpg.rf.693df5710370ab0b0e40ae31e97110aa', '57_280a8cba-5f43-4d48-a963-1c77ffdff818_1024x1024_jpeg_jpg.rf.6c464b61526b3a03addd066eee09cdb4', 'depositphotos_477968950-stock-photo-mumbai-maharashtra-india-december-2019_jpg.rf.73f1cdbd37d52b446cc25833fecf13c2', 'istockphoto-1126859582-612x612_jpg.rf.2cf152f24d61399e5637c59f3f4d35b0', '10-49-scaled_jpg.rf.4a32efa949a2d8e5580d90f1f93decec', 'istockphoto-1279352314-612x612_jpg.rf.bf3b4f6b7c31d0803433a85db229043d', 'istockphoto-1208247561-612x612_jpg.rf.c80728e6c6b98c2e5854036b8e969e7a', '0490_jpg.rf.cd4dd33840ea2d16a06d17fd3a916cb9', 'ghows-LK-f14b6d4a-d07f-40ce-bd81-169ff594fc11-caf46d02_jpeg_jpg.rf.c3b5fcd1b7ad80af21c783d4a00fdcfd', 'image6_jpeg_jpg.rf.441e131e574da420ea56e35c67ec488a', 'istockphoto-1434175651-612x612_jpg.rf.191a9fbf7e3cb60a637a53e2d4d40174', 'dpa-rva-111969_jpg.rf.7365f1fbd2cba2f6f1052c337798a852', '46F69CDF00000578-0-image-a-71_1512387950463_jpg.rf.52f6a7fd6880bc598f5f673466966e34', 'stage-tom-sawyer-side_orig_jpg.rf.7a84c3cbdaaef436e7f12a0b53767b8e', 'd640d91a270a8ec3e670833868064461_jpg.rf.d70ac3298e56e2081aa1a3a34231f6bf', 'istockphoto-1001817378-612x612_jpg.rf.a3b2440b5e79498875154b655b398820', 'image20_jpeg_jpg.rf.d2769a8f94ddb3fd9b323d5250215761', 'image8_jpeg_jpg.rf.5232c4876b71e83e70c9e8a0df8f7d24', '140899-ihrwctswul-1588690854_jpg.rf.f70e1ab4161c44d6dc94eec52c4739bd', '0174_jpg.rf.0c578c5eff35fbf6361233a629b28ea1', '0216_jpg.rf.3168969059a88b505f8a5ad6dc1543a6', 'csm__DSC7362_521e53972e_jpg.rf.693b410328c2348eebeb4a141a082591', '656863-ce90436a-2f49-44f2-b2bf-670d67718e38_jpg.rf.b3fc4a2fb8fee741d4bf7e0a9fde6f15', 'istockphoto-1337861925-612x612_jpg.rf.4c5c6f97d84d9f38d6dd9e916ecc178c', 'istockphoto-948127308-612x612_jpg.rf.54c14cc9a467a695ecdd876bd6fbd886', 'OIWXJ1EL9DJXMI8GXDWR_jpg.rf.83dac2c15ff6dd29f2095e627349df64', 'istockphoto-1459895128-612x612_jpg.rf.bc9d9b6f1da48ee97cb95df6417ce0b1', 'i26833_jpg.rf.57126ddeae057e58c1ff7bd4ec6bfc20', 'Worker-working-without-safety-boots-hand-gloves-head-protection_jpg.rf.98a0103f44b640bc4ee793d2051af721', '8_jpg.rf.05e6e29f12d91133ce0b2dba0be5ebc9', 'istockphoto-1459895165-612x612_jpg.rf.1627f16e1d14fa0d99334bd7ecbdc1c4', 'images11_jpg.rf.3aa8e937cc4d6c970d664d8ad78b7c85', '0175_jpg.rf.0adc4b5687bd7ec1d9eaa42cd48cdccc', 'Child-Laborers-Maryland-1909_jpg.rf.c000f4ac8e0e7d53415b6f2eda8b1648', 'Coal1_jpg.rf.ae338e6e3dc4ec1bb2640a103a214123', 'istockphoto-636644120-612x612_jpg.rf.ce243835042e2ff7b4ffab835e7c88af', 'factory-workers_jpg.rf.c557b433800b0b5ec57483f63dc09e05', 'istockphoto-1126859824-612x612_jpg.rf.2eb9e3ed069e019531376258d0e3da10', '32894716355_c5769b3314_b_jpg.rf.12d553a78e4d74b51045f8998c543edc'}\n"
     ]
    }
   ],
   "source": [
    "#check labels\n",
    "import os\n",
    "\n",
    "# Define paths\n",
    "train_images = \"F:/malathi/AI/DEEP_LEARNING/Shoe_detect_2/train/images\"\n",
    "train_labels = \"F:/malathi/AI/DEEP_LEARNING/Shoe_detect_2/train/labels\"\n",
    "\n",
    "# Get filenames without extensions\n",
    "image_files = {f.rsplit(\".\", 1)[0] for f in os.listdir(train_images) if f.endswith((\".jpg\", \".png\"))}\n",
    "label_files = {f.rsplit(\".\", 1)[0] for f in os.listdir(train_labels) if f.endswith(\".txt\")}\n",
    "\n",
    "# Find images without labels\n",
    "missing_labels = image_files - label_files\n",
    "\n",
    "if missing_labels:\n",
    "    print(f\"🚨 Missing label for image(s): {missing_labels}\")\n",
    "else:\n",
    "    print(\"✅ All images have labels!\")\n"
   ]
  },
  {
   "cell_type": "code",
   "execution_count": 5,
   "metadata": {},
   "outputs": [],
   "source": [
    "#check the format is correct for all images\n",
    "import os\n",
    "\n",
    "labels_dir = \"F:/malathi/AI/DEEP_LEARNING/Shoe_detect_2/val/labels\"\n",
    "\n",
    "for file in os.listdir(labels_dir):\n",
    "    with open(os.path.join(labels_dir, file), \"r\") as f:\n",
    "        for line in f.readlines():\n",
    "            values = line.strip().split()\n",
    "            if len(values) != 5:\n",
    "                print(f\"🚨 Incorrect format in {file}: {line}\")\n"
   ]
  },
  {
   "cell_type": "code",
   "execution_count": null,
   "metadata": {},
   "outputs": [],
   "source": [
    "#check any empty labels found\n",
    "import os\n",
    "\n",
    "labels_dir = \"F:/malathi/AI/DEEP_LEARNING/Shoe_detect_2/val/labels\"\n",
    "\n",
    "empty_files = [f for f in os.listdir(labels_dir) if os.path.getsize(os.path.join(labels_dir, f)) == 0]\n",
    "\n",
    "if empty_files:\n",
    "    print(f\"🚨 Empty label files: {empty_files}\")\n",
    "else:\n",
    "    print(\"✅ No empty label files!\")\n"
   ]
  },
  {
   "cell_type": "code",
   "execution_count": 6,
   "metadata": {},
   "outputs": [
    {
     "name": "stdout",
     "output_type": "stream",
     "text": [
      "🗑️ Deleted 0 empty label files.\n"
     ]
    }
   ],
   "source": [
    "##Remove Empty Label Files\n",
    "import os\n",
    "\n",
    "labels_dir = \"F:/malathi/AI/DEEP_LEARNING/Shoe_detect_2/val/labels\"\n",
    "\n",
    "# Find and remove empty label files\n",
    "empty_files = [f for f in os.listdir(labels_dir) if os.path.getsize(os.path.join(labels_dir, f)) == 0]\n",
    "\n",
    "for file in empty_files:\n",
    "    os.remove(os.path.join(labels_dir, file))\n",
    "\n",
    "print(f\"🗑️ Deleted {len(empty_files)} empty label files.\")\n"
   ]
  },
  {
   "cell_type": "code",
   "execution_count": null,
   "metadata": {},
   "outputs": [],
   "source": [
    "#replace empty labels with values\n",
    "import os\n",
    "\n",
    "labels_dir = \"F:/malathi/AI/DEEP_LEARNING/Shoe_detect_2/val/labels\"\n",
    "\n",
    "# Find all empty label files\n",
    "empty_files = [f for f in os.listdir(labels_dir) if os.path.getsize(os.path.join(labels_dir, f)) == 0]\n",
    "\n",
    "for file in empty_files:\n",
    "    file_path = os.path.join(labels_dir, file)\n",
    "    with open(file_path, \"w\") as f:\n",
    "        f.write(\"-1 0 0 0 0\\n\")  # Add placeholder label\n",
    "    print(f\"✅ Updated empty label file: {file}\")\n",
    "\n",
    "print(\"🎯 All empty label files updated with '-1 0 0 0 0'!\")\n"
   ]
  }
 ],
 "metadata": {
  "kernelspec": {
   "display_name": "Python 3",
   "language": "python",
   "name": "python3"
  },
  "language_info": {
   "codemirror_mode": {
    "name": "ipython",
    "version": 3
   },
   "file_extension": ".py",
   "mimetype": "text/x-python",
   "name": "python",
   "nbconvert_exporter": "python",
   "pygments_lexer": "ipython3",
   "version": "3.11.9"
  }
 },
 "nbformat": 4,
 "nbformat_minor": 2
}
